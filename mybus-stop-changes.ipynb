{
 "metadata": {
  "language_info": {
   "codemirror_mode": {
    "name": "ipython",
    "version": 3
   },
   "file_extension": ".py",
   "mimetype": "text/x-python",
   "name": "python",
   "nbconvert_exporter": "python",
   "pygments_lexer": "ipython3",
   "version": "3.6.9"
  },
  "orig_nbformat": 2,
  "kernelspec": {
   "name": "python369jvsc74a57bd031f2aee4e71d21fbe5cf8b01ff0e069b9275f58929596ceb00d14d90e3e16cd6",
   "display_name": "Python 3.6.9 64-bit"
  },
  "metadata": {
   "interpreter": {
    "hash": "31f2aee4e71d21fbe5cf8b01ff0e069b9275f58929596ceb00d14d90e3e16cd6"
   }
  }
 },
 "nbformat": 4,
 "nbformat_minor": 2,
 "cells": [
  {
   "source": [
    "# Overview\n",
    "\n",
    "This Jupyter Notebook takes in data from a Google Sheet that contains stop change details and their associated high level categories and outputs a JSON file for each line to be used in the MyBus tool.\n",
    "\n",
    "The output file is used by the MyBus tool's results page and contains the Stop-level changes that are displayed there.\n"
   ],
   "cell_type": "markdown",
   "metadata": {}
  },
  {
   "cell_type": "code",
   "execution_count": 6,
   "metadata": {},
   "outputs": [],
   "source": [
    "import pandas as pd\n",
    "DATA_INPUT_PATH = 'data-input/'\n",
    "DATA_OUTPUT_PATH = 'data-output/changes/'"
   ]
  },
  {
   "cell_type": "code",
   "execution_count": 7,
   "metadata": {},
   "outputs": [
    {
     "output_type": "execute_result",
     "data": {
      "text/plain": [
       "                                          source line direction  stop_id  \\\n",
       "0  SGV June 2021 Bus Stop Signage Print Tracking   70         E    678.0   \n",
       "1  SGV June 2021 Bus Stop Signage Print Tracking   70         E    672.0   \n",
       "2  SGV June 2021 Bus Stop Signage Print Tracking   70         E   7666.0   \n",
       "3  SGV June 2021 Bus Stop Signage Print Tracking   70         E   1463.0   \n",
       "4  SGV June 2021 Bus Stop Signage Print Tracking   70         E   2177.0   \n",
       "\n",
       "  on_street at_street                  stop_name  service_canceled  \\\n",
       "0       NaN       NaN  Cesar E Chavez / Progress             False   \n",
       "1       NaN       NaN    Cesar E Chavez / Ditman             False   \n",
       "2       NaN       NaN          Garvey / Chandler             False   \n",
       "3       NaN       NaN         Garvey / Nicholson             False   \n",
       "4       NaN       NaN             Garvey / River             False   \n",
       "\n",
       "   service_changed  service_replaced  stop_canceled  stop_relocated  \\\n",
       "0            False             False           True           False   \n",
       "1            False             False           True           False   \n",
       "2            False             False           True           False   \n",
       "3            False             False           True           False   \n",
       "4            False             False           True           False   \n",
       "\n",
       "   route_changed  owl_service_canceled  \n",
       "0          False                 False  \n",
       "1          False                 False  \n",
       "2          False                 False  \n",
       "3          False                 False  \n",
       "4          False                 False  "
      ],
      "text/html": "<div>\n<style scoped>\n    .dataframe tbody tr th:only-of-type {\n        vertical-align: middle;\n    }\n\n    .dataframe tbody tr th {\n        vertical-align: top;\n    }\n\n    .dataframe thead th {\n        text-align: right;\n    }\n</style>\n<table border=\"1\" class=\"dataframe\">\n  <thead>\n    <tr style=\"text-align: right;\">\n      <th></th>\n      <th>source</th>\n      <th>line</th>\n      <th>direction</th>\n      <th>stop_id</th>\n      <th>on_street</th>\n      <th>at_street</th>\n      <th>stop_name</th>\n      <th>service_canceled</th>\n      <th>service_changed</th>\n      <th>service_replaced</th>\n      <th>stop_canceled</th>\n      <th>stop_relocated</th>\n      <th>route_changed</th>\n      <th>owl_service_canceled</th>\n    </tr>\n  </thead>\n  <tbody>\n    <tr>\n      <th>0</th>\n      <td>SGV June 2021 Bus Stop Signage Print Tracking</td>\n      <td>70</td>\n      <td>E</td>\n      <td>678.0</td>\n      <td>NaN</td>\n      <td>NaN</td>\n      <td>Cesar E Chavez / Progress</td>\n      <td>False</td>\n      <td>False</td>\n      <td>False</td>\n      <td>True</td>\n      <td>False</td>\n      <td>False</td>\n      <td>False</td>\n    </tr>\n    <tr>\n      <th>1</th>\n      <td>SGV June 2021 Bus Stop Signage Print Tracking</td>\n      <td>70</td>\n      <td>E</td>\n      <td>672.0</td>\n      <td>NaN</td>\n      <td>NaN</td>\n      <td>Cesar E Chavez / Ditman</td>\n      <td>False</td>\n      <td>False</td>\n      <td>False</td>\n      <td>True</td>\n      <td>False</td>\n      <td>False</td>\n      <td>False</td>\n    </tr>\n    <tr>\n      <th>2</th>\n      <td>SGV June 2021 Bus Stop Signage Print Tracking</td>\n      <td>70</td>\n      <td>E</td>\n      <td>7666.0</td>\n      <td>NaN</td>\n      <td>NaN</td>\n      <td>Garvey / Chandler</td>\n      <td>False</td>\n      <td>False</td>\n      <td>False</td>\n      <td>True</td>\n      <td>False</td>\n      <td>False</td>\n      <td>False</td>\n    </tr>\n    <tr>\n      <th>3</th>\n      <td>SGV June 2021 Bus Stop Signage Print Tracking</td>\n      <td>70</td>\n      <td>E</td>\n      <td>1463.0</td>\n      <td>NaN</td>\n      <td>NaN</td>\n      <td>Garvey / Nicholson</td>\n      <td>False</td>\n      <td>False</td>\n      <td>False</td>\n      <td>True</td>\n      <td>False</td>\n      <td>False</td>\n      <td>False</td>\n    </tr>\n    <tr>\n      <th>4</th>\n      <td>SGV June 2021 Bus Stop Signage Print Tracking</td>\n      <td>70</td>\n      <td>E</td>\n      <td>2177.0</td>\n      <td>NaN</td>\n      <td>NaN</td>\n      <td>Garvey / River</td>\n      <td>False</td>\n      <td>False</td>\n      <td>False</td>\n      <td>True</td>\n      <td>False</td>\n      <td>False</td>\n      <td>False</td>\n    </tr>\n  </tbody>\n</table>\n</div>"
     },
     "metadata": {},
     "execution_count": 7
    }
   ],
   "source": [
    "stop_changes = pd.read_csv(DATA_INPUT_PATH + 'stop_changes - ALL.csv')\n",
    "#stop_changes.count()\n",
    "stop_changes.head()"
   ]
  },
  {
   "source": [
    "# Stop Changes\n",
    "\n",
    "Data was compiled from spreadsheets and slides provided by Service Planners.\n",
    "\n",
    "As of 5/25/2021, there are 4752 rows.\n",
    "\n",
    "## No `stop_id`\n",
    "\n",
    "40 entries have no `stop_id`, 4712 rows have `stop_id`.  These need to be set to 0 in order to cast the column as type `int`.\n",
    "\n",
    "Of these entries:\n",
    "\n",
    "* 8 are for lines 111, 207 (Scott)\n",
    "* 3 are placeholders for line 757 (Scott)\n",
    "* 1 is for Terminal 28/East Lot\n",
    "* 28 are for SFV lines 92, 94, 164, 165, 224, 234, 240 (Israel)\n",
    "\n"
   ],
   "cell_type": "markdown",
   "metadata": {}
  },
  {
   "cell_type": "code",
   "execution_count": 8,
   "metadata": {},
   "outputs": [],
   "source": [
    "# Set empty stop_ids to 0\n",
    "stop_changes['stop_id'] = stop_changes['stop_id'].fillna(0)\n",
    "stop_changes['stop_id'] = stop_changes['stop_id'].astype(int)\n",
    "\n",
    "# Show rows where stop_id == 0 (stop_id doesn't exist)\n",
    "#stop_changes.loc[stop_changes['stop_id'] == 0]"
   ]
  },
  {
   "source": [
    "# Analysis\n",
    "\n",
    "## Duplicate `stop_id`\n",
    "\n",
    "Not counting the 40 entries with no `stop_id`, there are 505 `stop_id`s that occur at least 2 times.\n",
    "\n",
    "There are 55 `stop_id`s that occur at least 3 times.  `30015` (SYL/SF Metrolink Station) occurs 14 times.\n",
    "\n",
    "## Duplicate `line` & `stop_id` combo\n",
    "\n",
    "After removing for non-existent stop_ids, there are 4506 unique line + stop_id combinations.\n",
    "\n",
    "* 4317 combos occur 1 time, 189 combos occur multiple times\n",
    "* 179 combos occur 2 times\n",
    "* 10 combos occur at least 3 times\n",
    "\n",
    "Within the 10 combos that that have at least 3 duplicate entries with the same `line` and `stop_id`, the line 237, stop_id 25001 combo has entries with service_changed and service_replaced selected.\n",
    "\n",
    "## Merge\n",
    "\n",
    "Join datasets to show the stop change categories for the line-stop combos with duplicates.  The 189 line-stop combos matched with 395 rows from the overall dataset.\n",
    "\n",
    "From this identify where each line-stop combo has different change categories applied.\n",
    "\n",
    "This dataframe was exported to CSV and loaded into Google Sheets for easier analysis.\n",
    "Of those 395 rows, 178 line-stop combos have different categories listed."
   ],
   "cell_type": "markdown",
   "metadata": {}
  },
  {
   "cell_type": "code",
   "execution_count": 34,
   "metadata": {},
   "outputs": [],
   "source": [
    "# Find duplicate stop_ids\n",
    "#stop_changes['stop_id'].value_counts()\n",
    "#stop_changes['stop_id'].value_counts().loc[lambda x : x>2]\n",
    "\n",
    "# stop_id == 30015 (14 occurences)\n",
    "# SYL/SF Metrolink Station, different lines, directions, and locations\n",
    "#stop_changes.loc[stop_changes['stop_id'] == 30015]"
   ]
  },
  {
   "cell_type": "code",
   "execution_count": 99,
   "metadata": {},
   "outputs": [],
   "source": [
    "# Find duplicate line + stop_id combos\n",
    "\n",
    "# exclude non-existent stop_ids\n",
    "stop_changes_existing_stopids = stop_changes.loc[stop_changes['stop_id'] != 0]\n",
    "# 4712 rows\n",
    "\n",
    "stop_changes_existing_stopids = stop_changes_existing_stopids.groupby(['line', 'stop_id']).size().reset_index(name=\"count\")\n",
    "stop_changes_existing_stopids = stop_changes_existing_stopids.loc[stop_changes_existing_stopids['count'] > 1]\n",
    "\n",
    "#combo_lines = stop_changes_existing_stopids.loc[stop_changes_existing_stopids['count'] > 1].line.unique()\n",
    "#combo_stops = stop_changes_existing_stopids.loc[stop_changes_existing_stopids['count'] > 1].stop_id.unique()\n",
    "\n",
    "#stop_changes[stop_changes.line.isin(combo_lines)].sort_values(by=['line', 'stop_id'])\n",
    "\n",
    "filtered_combos = pd.merge(stop_changes_existing_stopids, stop_changes, how='inner', on=['line', 'stop_id']).sort_values(by=['line', 'stop_id'])\n",
    "\n",
    "# Output file with the stops that have duplicate rows.\n",
    "filtered_combos.to_csv(DATA_OUTPUT_PATH + 'stop_changes_duplicates.csv')"
   ]
  },
  {
   "source": [
    "# Output\n",
    "\n",
    "Output a file for each line.\n",
    "\n",
    "Combine duplicate rows and make sure the appropriate categories are selected for each in the case that there are multiple rows.\n",
    "\n"
   ],
   "cell_type": "markdown",
   "metadata": {}
  },
  {
   "cell_type": "code",
   "execution_count": 8,
   "metadata": {},
   "outputs": [],
   "source": [
    "stop_changes.to_json(DATA_OUTPUT_PATH + 'stop_changes.json', orient='records')\n",
    "\n"
   ]
  }
 ]
}