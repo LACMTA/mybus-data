{
 "cells": [
  {
   "cell_type": "code",
   "execution_count": null,
   "source": [
    "import pandas as pd \r\n",
    "import numpy as np\r\n",
    "from docx.api import Document\r\n",
    "import re\r\n",
    "import json\r\n",
    "\r\n",
    "# templates = [[\"header\",1,\"Metro is making more service changes.\",\"Metro está haciendo más cambios en sus servicios.\",\"Metro正在進行更多服務調整。\",\"Metro hiện đang thực hiện nhiều thay đổi về dịch vụ.\",\"메트로 서비스가 더욱 새롭게단장하고 있습니다.\",\"メトロのサービスが変更されます。\",\"Metro-ն կրկին փոփոխություններ է իրականացնում ծառայությունների մեջ:\",\"Metro вносит дополнительные изменения в схемы движения.\"]]\r\n",
    "# templates = [\"header\",1],[\"summary\",1],[\"details\",1],[\"end\",1]\r\n",
    "# final_template = pd.DataFrame(templates,columns=[\"section\",\"order\",\"en\",\"es\",\"zh-TW\",\"vi\",\"ko\",\"ja\",\"hy\",\"ru\"])\r\n"
   ],
   "outputs": [],
   "metadata": {}
  },
  {
   "cell_type": "code",
   "execution_count": null,
   "source": [
    "document = Document('data/202109shakeup.docx')\r\n",
    "table = document.tables[0]\r\n",
    "data = [[cell.text.replace(\"\\n\",\" \").replace('\"','').replace('\" ','').lstrip() for cell in row.cells] for row in table.rows]\r\n",
    "\r\n",
    "df = pd.DataFrame(data)\r\n",
    "new_header = df.iloc[0]\r\n",
    "df = df[1:] \r\n",
    "df.columns = new_header\r\n",
    "# print(df.columns)\r\n",
    "df = df.rename(columns={'English':'en','Spanish':'es','Chinese (Traditional)':'zh-TW','Korean':'ko','Vietnamese':'vi','Japanese':'ja','Russian':'ru','Armenian':'hy'})\r\n",
    "# df = df.rename(columns=df.iloc[0]).drop(df.index[0]).reset_index(drop=True)\r\n",
    "\r\n",
    "df = df.replace(' +',r' ',regex=True)\r\n",
    "df = df.replace('\"',r'',regex=True)\r\n",
    "# df.to_json('test.json')\r\n",
    "# df.to_csv('test.csv')\r\n",
    "df.head()\r\n",
    "\r\n",
    "final_df = pd.DataFrame(columns=[\"section\",\"order\",\"line\",\"altline\",\"en\",\"es\",\"zh-TW\",\"vi\",\"ko\",\"ja\",\"hy\",\"ru\",\"new-schedule\",\"current-schedule\"])"
   ],
   "outputs": [],
   "metadata": {}
  },
  {
   "cell_type": "markdown",
   "source": [
    "## Populating the data\r\n",
    "\r\n",
    "### 2.1 Adding the `Summary` sections"
   ],
   "metadata": {}
  },
  {
   "cell_type": "code",
   "execution_count": null,
   "source": [
    "def reset_final_df():\r\n",
    "    return pd.DataFrame(columns=[\"section\",\"order\",\"line\",\"altline\",\"en\",\"es\",\"zh-TW\",\"vi\",\"ko\",\"ja\",\"hy\",\"ru\",\"new-schedule\",\"current-schedule\"])"
   ],
   "outputs": [],
   "metadata": {}
  },
  {
   "cell_type": "code",
   "execution_count": null,
   "source": [
    "header1 = df.loc[(df['en'].str.contains('\\u2013') == False) & (df['en'].str.contains('Metro is making service'))]\r\n",
    "header1 = header1.assign(section='header')\r\n",
    "header1 = header1.assign(order='1')\r\n",
    "\r\n",
    "header2 = df.loc[(df['en'].str.contains('\\u2013') == False) & (df['en'].str.contains('New schedules start'))]\r\n",
    "header2 = header2.assign(section='header')\r\n",
    "header2 = header2.assign(order='2')\r\n",
    "\r\n",
    "if not final_df.empty:\r\n",
    "    final_df = reset_final_df()\r\n",
    "\r\n",
    "final_df = final_df.append(header1)\r\n",
    "final_df = final_df.append(header2)\r\n",
    "\r\n",
    "final_df"
   ],
   "outputs": [],
   "metadata": {}
  },
  {
   "cell_type": "code",
   "execution_count": null,
   "source": [
    "final_df"
   ],
   "outputs": [],
   "metadata": {}
  },
  {
   "cell_type": "code",
   "execution_count": null,
   "source": [
    "# th = df[df['en'].str.contains('Starting on'):df['en'].str.contains('We’re ')]\r\n",
    "th = df.loc[(df['en'].str.contains('\\u2013') == False) & (df.index < 30) & (df['en'].str.contains('We’re modify') == False)]\r\n",
    "\r\n",
    "# th = th.loc[th['section']]\r\n",
    "# df.index.rename(\"oid\")\r\n",
    "\r\n",
    "\r\n",
    "\r\n",
    "th = th.assign(section='summary')\r\n",
    "\r\n",
    "### RIP: code to split based on `:`\r\n",
    "\r\n",
    "th['order'] = ''\r\n",
    "# th['en'] = th['en'].str.split(':')\r\n",
    "# th = th.explode('en')\r\n",
    "th_count = th.shape[0]\r\n",
    "for i in range(0,th_count):\r\n",
    "    th['order'].values[i] = i\r\n",
    "\r\n",
    "###\r\n",
    "\r\n",
    "    # th = th['order'].values[i] = i\r\n",
    "# for row in th.itertuples():\r\n",
    "#     th.at[row.Index,'Index'].assign(order=row.Index)\r\n",
    "\r\n",
    "# th = th.set_index(['index','section']).apply(lambda x: x.str.split(':').explode())\r\n",
    "# .reset_index()\r\n",
    "\r\n",
    "# th = th.concat([Series(row['var2'], row['var1'].split(','))              \r\n",
    "#                     for _, row in a.iterrows()]).reset_index()\r\n",
    "\r\n",
    "\r\n",
    "# for i in range(1,th_count):\r\n",
    "#     print(i)\r\n",
    "# th.loc[:,'section'] = 'summary'\r\n",
    "# th.loc[:,'order'] = 1\r\n",
    "# th = th.set_index('order',drop=False)\r\n",
    "\r\n",
    "\r\n",
    "# th = th.reset_index(inplace=True)\r\n",
    "# th\r\n",
    "# th\r\n",
    "# final_df = final_df.append(th).copy()\r\n",
    "# final_df\r\n",
    "th\r\n",
    "\r\n",
    "\r\n",
    "\r\n",
    "final_df = final_df.append(th)\r\n",
    "final_df"
   ],
   "outputs": [],
   "metadata": {}
  },
  {
   "cell_type": "code",
   "execution_count": null,
   "source": [
    "detail_header = df.loc[(df['en'].str.contains('\\u2013') == False) & (df.index < 20) & (df['en'].str.contains('We’re modify') == True)]\r\n",
    "\r\n",
    "detail_header = detail_header.assign(section='details')\r\n",
    "detail_header = detail_header.assign(order=0)\r\n",
    "\r\n",
    "final_df = final_df.append(detail_header)\r\n",
    "detail_header\r\n",
    "# final_df.to_json('final_takeone.json',orient='records')"
   ],
   "outputs": [],
   "metadata": {}
  },
  {
   "cell_type": "code",
   "execution_count": null,
   "source": [
    "detail_header"
   ],
   "outputs": [],
   "metadata": {}
  },
  {
   "cell_type": "markdown",
   "source": [],
   "metadata": {}
  },
  {
   "cell_type": "markdown",
   "source": [
    "### 2.2. Adding the `details`/lines section\r\n",
    "\r\n",
    "First we will get all the lines in:"
   ],
   "metadata": {}
  },
  {
   "cell_type": "code",
   "execution_count": null,
   "source": [
    "# data = []\r\n",
    "# lines = []\r\n",
    "# keys = None\r\n",
    "lines_df = pd.read_csv('data/mybus-sep-2021 - Lines.csv', index_col=0)\r\n",
    "lines_takeone_df = df.loc[(df['en'].str.contains('\\u2013')) & (df['en'].str.contains('B Line, D Line') == False)]\r\n",
    "\r\n",
    "\r\n",
    "# lines_takeone_df = lines_takeone_df.index.rename(\"oid\")\r\n",
    "# lines_takeone_df = lines_takeone_df.set_index('order')\r\n",
    "\r\n",
    "\r\n",
    "df.loc[(df['en'].str.contains('\\u2013') == False) & (df.index < 30)]\r\n",
    "\r\n",
    "lines_df['AltLine'] = lines_df.AltLine.fillna(0).astype(int)\r\n",
    "all_lines = lines_df[['Line Label',\"AltLine\"]]\r\n",
    "# all_lines\r\n",
    "\r\n",
    "lines_count = all_lines.shape[0]\r\n",
    "\r\n",
    "all_lines['order'] = ''\r\n",
    "# all_lines['line'] = \r\n",
    "\r\n",
    "for i in range(0,lines_count):\r\n",
    "    all_lines['order'].values[i] = i+1\r\n",
    "all_lines.reset_index(inplace=True)\r\n",
    "all_lines = all_lines.rename(columns={\"Line Label\":\"line_label\",\"Line Number\":\"line\"})\r\n",
    "# all_lines.index.rename('line', inplace=True)\r\n",
    "all_lines.head(4)\r\n",
    "\r\n"
   ],
   "outputs": [],
   "metadata": {}
  },
  {
   "cell_type": "code",
   "execution_count": null,
   "source": [
    "line = lines_takeone_df.en.str.split('–')\r\n",
    "\r\n",
    "lines_takeone_df['line'] = lines_takeone_df.en.str.split('–').str[0]\r\n",
    "\r\n",
    "lines_takeone_df = lines_takeone_df.assign(oid=lines_takeone_df.line.str.split('/')).explode('oid')\r\n",
    "# lines_takeone_df = lines_takeone_df.drop((lines_takeone_df.duplicated(subset=['line'])))\r\n",
    "\r\n",
    "\r\n",
    "dupes = lines_takeone_df.loc[(lines_takeone_df.duplicated(subset=['line']))]\r\n",
    "lines_takeone_df = lines_takeone_df.drop_duplicates(subset=['line'])\r\n",
    "lines_takeone_df = lines_takeone_df[lines_takeone_df[\"line\"].str.contains(\"/\")==False]\r\n",
    "\r\n",
    "\r\n",
    "lines_takeone_df\r\n",
    "\r\n",
    "\r\n",
    "# lines_takeone_df['line'] = lines_takeone_df.loc[(lines_takeone_df.duplicated(subset=['line']))]\r\n",
    "\r\n",
    "\r\n",
    "# dupes = lines_takeone_df.duplicated(subset=['line'])\r\n",
    "# dupes\r\n",
    "\r\n",
    "\r\n",
    "# lines_takeone_df = lines_takeone_df.set_index('line')\r\n",
    "# lines_takeone_df.tail()\r\n",
    "# result = pd.merge(all_lines, lines_takeone_df, on=[\"line\",\"line\"])\r\n",
    "\r\n",
    "\r\n",
    "# lines_takeone_df\r\n",
    "\r\n",
    "\r\n",
    "# result = pd.concat([all_lines,lines_takeone_df],axis=1)\r\n",
    "# result = all_lines.join(lines_takeone_df,how=\"right\")\r\n",
    "# result = pd.merge(all_lines,lines_takeone_df,how=\"outer\",on=[\"line\",\"line\"])\r\n",
    "\r\n",
    "# lines_takeone_df.head()\r\n",
    "# all_lines.head()\r\n",
    "# lines_takeone_df.head(2)\r\n",
    "# result"
   ],
   "outputs": [],
   "metadata": {}
  },
  {
   "cell_type": "code",
   "execution_count": null,
   "source": [
    "dupes['line'] = dupes['line'].str.split('/')\r\n",
    "dupes = dupes.explode('line')\r\n",
    "\r\n",
    "\r\n",
    "lines_takeone_df = lines_takeone_df.append(dupes)"
   ],
   "outputs": [],
   "metadata": {}
  },
  {
   "cell_type": "code",
   "execution_count": null,
   "source": [
    "all_lines['line'] = all_lines['line'].astype(int)\r\n",
    "# lines_takeone_df\r\n",
    "lines_takeone_df['line'] = lines_takeone_df['line'].astype(int)\r\n",
    "\r\n",
    "merged_lines = all_lines.merge(lines_takeone_df, on='line',how='outer')\r\n",
    "\r\n",
    "# merged_lines.reset_index()\r\n",
    "merged_lines = merged_lines.assign(section='details')\r\n",
    "merged_lines\r\n",
    "\r\n"
   ],
   "outputs": [],
   "metadata": {}
  },
  {
   "cell_type": "code",
   "execution_count": null,
   "source": [
    "\r\n",
    "final_df = final_df.append(merged_lines)"
   ],
   "outputs": [],
   "metadata": {}
  },
  {
   "cell_type": "code",
   "execution_count": null,
   "source": [
    "rail_df = df.loc[(df['en'].str.contains('\\u2013')) & (df['en'].str.contains('B Line, D Line') == True)]\r\n",
    "end_lines = len(merged_lines) +1\r\n",
    "# print(end_lines)\r\n",
    "rail_df = rail_df.assign(section='details')\r\n",
    "rail_df = rail_df.assign(order=end_lines)\r\n",
    "\r\n",
    "final_df = final_df.append(rail_df)"
   ],
   "outputs": [],
   "metadata": {}
  },
  {
   "cell_type": "code",
   "execution_count": null,
   "source": [
    "end1 = df.loc[(df['en'].str.contains('For more information '))]\r\n",
    "end1 = end1.assign(section='end')\r\n",
    "end1 = end1.assign(order=1)\r\n",
    "\r\n",
    "end2 = df.loc[(df['en'].str.contains('\\\\* M'))]\r\n",
    "end2 = end2.assign(order=2)\r\n",
    "end2 = end2.assign(section='end')\r\n",
    "end2\r\n",
    "\r\n",
    "\r\n",
    "final_df = final_df.append(end1)\r\n",
    "final_df = final_df.append(end2)\r\n"
   ],
   "outputs": [],
   "metadata": {}
  },
  {
   "cell_type": "code",
   "execution_count": null,
   "source": [
    "final_df.head(10)"
   ],
   "outputs": [],
   "metadata": {}
  },
  {
   "cell_type": "code",
   "execution_count": null,
   "source": [
    "final_df"
   ],
   "outputs": [],
   "metadata": {}
  },
  {
   "cell_type": "code",
   "execution_count": null,
   "source": [
    "# all_lines.set_index('Line Label')\r\n",
    "# all_lines = lines_df\r\n",
    "\r\n",
    "# all_lines = lines_df[[lines_df['Line Label'],lines_df['AltLine'].fillna(0).astype(int)]]\r\n",
    "# lines_df = lines_df[['Line Label','AltLine']]\r\n",
    "# lines_df\r\n",
    "\r\n",
    "final_df"
   ],
   "outputs": [],
   "metadata": {}
  },
  {
   "cell_type": "markdown",
   "source": [
    "### Final Output"
   ],
   "metadata": {}
  },
  {
   "cell_type": "code",
   "execution_count": null,
   "source": [
    "languages = ['en','es','zh-TW','vi','ko','ja','hy','ru']\r\n",
    "DATA_OUTPUT_PATH = \"./data/\"\r\n",
    "for i in languages:\r\n",
    "    final_final_df = final_df[['section','order', i,'line', 'new-schedule', 'current-schedule']].copy()\r\n",
    "    final_final_df = final_final_df.rename(columns={i: 'content'})\r\n",
    "    final_final_df.to_json(DATA_OUTPUT_PATH + 'takeone-' + i + '.json',orient='records')\r\n",
    "    print('Takeone created for: ' + i)\r\n"
   ],
   "outputs": [],
   "metadata": {}
  }
 ],
 "metadata": {
  "orig_nbformat": 4,
  "language_info": {
   "name": "python",
   "version": "3.9.5",
   "mimetype": "text/x-python",
   "codemirror_mode": {
    "name": "ipython",
    "version": 3
   },
   "pygments_lexer": "ipython3",
   "nbconvert_exporter": "python",
   "file_extension": ".py"
  },
  "kernelspec": {
   "name": "python3",
   "display_name": "Python 3.9.5 64-bit ('metro': conda)"
  },
  "interpreter": {
   "hash": "7c9313544d03373dbd8584603e7825c146326b23d229fda91fe5c8d2c1173eaa"
  }
 },
 "nbformat": 4,
 "nbformat_minor": 2
}