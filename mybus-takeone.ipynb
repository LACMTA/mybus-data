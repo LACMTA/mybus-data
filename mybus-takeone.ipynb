{
 "metadata": {
  "language_info": {
   "codemirror_mode": {
    "name": "ipython",
    "version": 3
   },
   "file_extension": ".py",
   "mimetype": "text/x-python",
   "name": "python",
   "nbconvert_exporter": "python",
   "pygments_lexer": "ipython3",
   "version": "3.6.9"
  },
  "orig_nbformat": 2,
  "kernelspec": {
   "name": "python369jvsc74a57bd031f2aee4e71d21fbe5cf8b01ff0e069b9275f58929596ceb00d14d90e3e16cd6",
   "display_name": "Python 3.6.9 64-bit"
  },
  "metadata": {
   "interpreter": {
    "hash": "31f2aee4e71d21fbe5cf8b01ff0e069b9275f58929596ceb00d14d90e3e16cd6"
   }
  }
 },
 "nbformat": 4,
 "nbformat_minor": 2,
 "cells": [
  {
   "source": [
    "# Overview\n",
    "\n",
    "This Jupyter Notebook takes in translations of the Take One brochure and outputs it as a JSON file for the MyBus tool.\n",
    "\n",
    "The data was originally in a Word document.  In transferring it to a Word document, line breaks and spaces were cleaned up in the content.  Different languages use spaces differently.\n",
    "\n",
    "The output file is used by the MyBus tool to display the Take One brochure as an HTML page instead of only as a PDF file.  It contains all the details for all line changes aggregated into a single view.\n"
   ],
   "cell_type": "markdown",
   "metadata": {}
  },
  {
   "cell_type": "code",
   "execution_count": 2,
   "metadata": {},
   "outputs": [],
   "source": [
    "import pandas as pd\n",
    "\n",
    "languages = ['en','es','zh-TW','vi','ko','ja','hy','ru']"
   ]
  },
  {
   "source": [
    "# Input\n",
    "\n",
    "Read in CSV file that contains all translatons of the Take-One Brochure.\n",
    "\n",
    "The languages are:\n",
    "\n",
    "* English (en)\n",
    "* Spanish (es)\n",
    "* Chinese-Traditional (zh-TW)\n",
    "* Vietnamese (vi)\n",
    "* Korean (ko)\n",
    "* Japanese (ja)\n",
    "* Armenian (hy)\n",
    "* Russian (ru)"
   ],
   "cell_type": "markdown",
   "metadata": {}
  },
  {
   "cell_type": "code",
   "execution_count": 5,
   "metadata": {},
   "outputs": [
    {
     "output_type": "execute_result",
     "data": {
      "text/plain": [
       "    section  order                                                 en  \\\n",
       "89  details     77  770 – Line 770 will be discontinued, and repla...   \n",
       "90  details     78  780 – Line 780 will be discontinued, replaced ...   \n",
       "91  details     79  788 – Line 788, which has not operated since m...   \n",
       "92  details     80  901 – No route changes to G Line (Orange) rout...   \n",
       "93      end      1  For more information on Metro service changes ...   \n",
       "\n",
       "                                                   es  \\\n",
       "89  770: La línea 770 será descontinuada y reempla...   \n",
       "90  780: La línea 780 será descontinuada y reempla...   \n",
       "91  788: La línea 788, que no funciona desde media...   \n",
       "92  901: No habrá cambios en la ruta de Metro G Li...   \n",
       "93  Para más información sobre los cambios en los ...   \n",
       "\n",
       "                                                zh-TW  \\\n",
       "89  770 - 770號線將停運，取而代之的是頻繁往返的70號線，在El Monte Stati...   \n",
       "90  780 - 780號線將停運，取而代之的是180號線在Pasadena City Colle...   \n",
       "91  788- 788號線自2020年中期以來一直沒有運行，將永久停運，取而代之的是在Sylmar...   \n",
       "92             901 - G線（橙線）的路線沒有變化。這條路線現在完全由電池電動巴士運行。   \n",
       "93  有關Metro服務變化和其他Metro服務的更多信息，請撥打323.GO.METRO，或訪問...   \n",
       "\n",
       "                                                   vi  \\\n",
       "89  Tuyến 770 - Tuyến 770 sẽ ngừng hoạt động và đư...   \n",
       "90  Tuyến 780 - Tuyến 780 sẽ ngừng hoạt động và đư...   \n",
       "91  Tuyến 788 - Tuyến 788 bị ngừng hoạt động từ gi...   \n",
       "92  Tuyến 901 - Tuyến G (Màu cam) không bị điều ch...   \n",
       "93  Để biết thêm thông tin về các thay đổi dịch vụ...   \n",
       "\n",
       "                                                   ko  \\\n",
       "89  770 – 770번 버스가 중단되는 대신 70번 버스의 운행 횟수가 늘어납니다. 7...   \n",
       "90  780 – 780번 버스는 운행이 중단되며, 180번 버스와 217번 버스로 대체 ...   \n",
       "91  788 – 788번 버스는 2020년 중반부터 운행되지 않아 영구 중단이 결정되었고...   \n",
       "92  901 – G 선(오렌지)의 노선은 변경되지 않습니다. 901번 버스는 현재 전기 ...   \n",
       "93  메트로 서비스 변경 및 기타 메트로 서비스에 대한 자세한 내용은 323.GO MET...   \n",
       "\n",
       "                                                   ja  \\\n",
       "89  770 - 770番線は廃止され、代わりに頻繁に運行される70番線がEl Monte駅とLA...   \n",
       "90  780 - 780番線は廃止され、代わりに180号線がPasadena City Colle...   \n",
       "91  788 - 2020年半ばから運行されていない788番線は永久に廃止され、Sylmar/Sa...   \n",
       "92  901 - Gライン（オレンジ）のルートに変更はありません。この路線は現在、完全に電気バスで...   \n",
       "93  メトロのサービス変更やその他のメトロのサービスに関する詳細は、メトロ・カスタマー・サービス・...   \n",
       "\n",
       "                                                   hy  \\\n",
       "89  770 – 770-րդ գիծը կդադարեցվի և կփոխարինվի հաճա...   \n",
       "90  780 –780-րդ գիծը կդադարեցվի, այն կփոխարինվի 18...   \n",
       "91  788 – 788-րդ գիծը, որը չի գործել 2020-ի կեսերի...   \n",
       "92  901– G գծի (նարնջագույն) երթուղին կմնա անփոփոխ...   \n",
       "93  Metro -ի ծառայությունների փոփոխությունների և M...   \n",
       "\n",
       "                                                   ru  line  \n",
       "89  770 – Маршрут № 770 будет прекращен и заменен ...   770  \n",
       "90  780 – Маршрут № 780 будет прекращен, заменен б...   780  \n",
       "91  788 – Маршрут № 788, который не осуществляет д...   788  \n",
       "92  901 – Маршрут не меняется на Оранжевой линии G...   901  \n",
       "93  Для получения дополнительной информации об изм...     0  "
      ],
      "text/html": "<div>\n<style scoped>\n    .dataframe tbody tr th:only-of-type {\n        vertical-align: middle;\n    }\n\n    .dataframe tbody tr th {\n        vertical-align: top;\n    }\n\n    .dataframe thead th {\n        text-align: right;\n    }\n</style>\n<table border=\"1\" class=\"dataframe\">\n  <thead>\n    <tr style=\"text-align: right;\">\n      <th></th>\n      <th>section</th>\n      <th>order</th>\n      <th>en</th>\n      <th>es</th>\n      <th>zh-TW</th>\n      <th>vi</th>\n      <th>ko</th>\n      <th>ja</th>\n      <th>hy</th>\n      <th>ru</th>\n      <th>line</th>\n    </tr>\n  </thead>\n  <tbody>\n    <tr>\n      <th>89</th>\n      <td>details</td>\n      <td>77</td>\n      <td>770 – Line 770 will be discontinued, and repla...</td>\n      <td>770: La línea 770 será descontinuada y reempla...</td>\n      <td>770 - 770號線將停運，取而代之的是頻繁往返的70號線，在El Monte Stati...</td>\n      <td>Tuyến 770 - Tuyến 770 sẽ ngừng hoạt động và đư...</td>\n      <td>770 – 770번 버스가 중단되는 대신 70번 버스의 운행 횟수가 늘어납니다. 7...</td>\n      <td>770 - 770番線は廃止され、代わりに頻繁に運行される70番線がEl Monte駅とLA...</td>\n      <td>770 – 770-րդ գիծը կդադարեցվի և կփոխարինվի հաճա...</td>\n      <td>770 – Маршрут № 770 будет прекращен и заменен ...</td>\n      <td>770</td>\n    </tr>\n    <tr>\n      <th>90</th>\n      <td>details</td>\n      <td>78</td>\n      <td>780 – Line 780 will be discontinued, replaced ...</td>\n      <td>780: La línea 780 será descontinuada y reempla...</td>\n      <td>780 - 780號線將停運，取而代之的是180號線在Pasadena City Colle...</td>\n      <td>Tuyến 780 - Tuyến 780 sẽ ngừng hoạt động và đư...</td>\n      <td>780 – 780번 버스는 운행이 중단되며, 180번 버스와 217번 버스로 대체 ...</td>\n      <td>780 - 780番線は廃止され、代わりに180号線がPasadena City Colle...</td>\n      <td>780 –780-րդ գիծը կդադարեցվի, այն կփոխարինվի 18...</td>\n      <td>780 – Маршрут № 780 будет прекращен, заменен б...</td>\n      <td>780</td>\n    </tr>\n    <tr>\n      <th>91</th>\n      <td>details</td>\n      <td>79</td>\n      <td>788 – Line 788, which has not operated since m...</td>\n      <td>788: La línea 788, que no funciona desde media...</td>\n      <td>788- 788號線自2020年中期以來一直沒有運行，將永久停運，取而代之的是在Sylmar...</td>\n      <td>Tuyến 788 - Tuyến 788 bị ngừng hoạt động từ gi...</td>\n      <td>788 – 788번 버스는 2020년 중반부터 운행되지 않아 영구 중단이 결정되었고...</td>\n      <td>788 - 2020年半ばから運行されていない788番線は永久に廃止され、Sylmar/Sa...</td>\n      <td>788 – 788-րդ գիծը, որը չի գործել 2020-ի կեսերի...</td>\n      <td>788 – Маршрут № 788, который не осуществляет д...</td>\n      <td>788</td>\n    </tr>\n    <tr>\n      <th>92</th>\n      <td>details</td>\n      <td>80</td>\n      <td>901 – No route changes to G Line (Orange) rout...</td>\n      <td>901: No habrá cambios en la ruta de Metro G Li...</td>\n      <td>901 - G線（橙線）的路線沒有變化。這條路線現在完全由電池電動巴士運行。</td>\n      <td>Tuyến 901 - Tuyến G (Màu cam) không bị điều ch...</td>\n      <td>901 – G 선(오렌지)의 노선은 변경되지 않습니다. 901번 버스는 현재 전기 ...</td>\n      <td>901 - Gライン（オレンジ）のルートに変更はありません。この路線は現在、完全に電気バスで...</td>\n      <td>901– G գծի (նարնջագույն) երթուղին կմնա անփոփոխ...</td>\n      <td>901 – Маршрут не меняется на Оранжевой линии G...</td>\n      <td>901</td>\n    </tr>\n    <tr>\n      <th>93</th>\n      <td>end</td>\n      <td>1</td>\n      <td>For more information on Metro service changes ...</td>\n      <td>Para más información sobre los cambios en los ...</td>\n      <td>有關Metro服務變化和其他Metro服務的更多信息，請撥打323.GO.METRO，或訪問...</td>\n      <td>Để biết thêm thông tin về các thay đổi dịch vụ...</td>\n      <td>메트로 서비스 변경 및 기타 메트로 서비스에 대한 자세한 내용은 323.GO MET...</td>\n      <td>メトロのサービス変更やその他のメトロのサービスに関する詳細は、メトロ・カスタマー・サービス・...</td>\n      <td>Metro -ի ծառայությունների փոփոխությունների և M...</td>\n      <td>Для получения дополнительной информации об изм...</td>\n      <td>0</td>\n    </tr>\n  </tbody>\n</table>\n</div>"
     },
     "metadata": {},
     "execution_count": 5
    }
   ],
   "source": [
    "takeone = pd.read_csv('data-input/all-lines.csv', \n",
    "    usecols={'section','order','en','es','zh-TW','vi','ko','ja','hy','ru','line'},\n",
    "    dtype={'section':'string', 'order':'int64', 'en':'string', 'es':'string', 'zh-TW':'string', 'vi':'string', 'ko':'string', 'ja':'string', 'hy':'string', 'ru':'string', 'line':'int64'})\n",
    "\n",
    "# Remove message about front door boarding being back.\n",
    "takeone.drop(94, inplace=True)\n",
    "\n",
    "takeone.tail()"
   ]
  },
  {
   "source": [
    "# Output\n",
    "\n",
    "Create a JSON file for each language."
   ],
   "cell_type": "markdown",
   "metadata": {}
  },
  {
   "cell_type": "code",
   "execution_count": 6,
   "metadata": {},
   "outputs": [],
   "source": [
    "for i in languages:\n",
    "    df = takeone[['section','order', i,'line']].copy()\n",
    "    df = df.rename(columns={i: 'content'})\n",
    "    df.to_json('data-output/takeone-' + i + '.json',orient='records')\n",
    "\n"
   ]
  }
 ]
}