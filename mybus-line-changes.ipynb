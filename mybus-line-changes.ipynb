{
 "metadata": {
  "language_info": {
   "codemirror_mode": {
    "name": "ipython",
    "version": 3
   },
   "file_extension": ".py",
   "mimetype": "text/x-python",
   "name": "python",
   "nbconvert_exporter": "python",
   "pygments_lexer": "ipython3",
   "version": "3.6.9"
  },
  "orig_nbformat": 2,
  "kernelspec": {
   "name": "python369jvsc74a57bd031f2aee4e71d21fbe5cf8b01ff0e069b9275f58929596ceb00d14d90e3e16cd6",
   "display_name": "Python 3.6.9 64-bit"
  },
  "metadata": {
   "interpreter": {
    "hash": "31f2aee4e71d21fbe5cf8b01ff0e069b9275f58929596ceb00d14d90e3e16cd6"
   }
  }
 },
 "nbformat": 4,
 "nbformat_minor": 2,
 "cells": [
  {
   "source": [
    "# Overview\n",
    "\n",
    "This Jupyter Notebook takes in data from a Google Sheet that contains line change details and their associated high level categories and outputs a JSON file for the MyBus tool.\n",
    "\n",
    "The output file is used by the MyBus tool's results page and contains the Line-level changes that are displayed there."
   ],
   "cell_type": "markdown",
   "metadata": {}
  },
  {
   "cell_type": "code",
   "execution_count": 1,
   "metadata": {},
   "outputs": [],
   "source": [
    "import pandas as pd\n",
    "DATA_INPUT_PATH = 'data-input/'\n",
    "DATA_OUTPUT_PATH = 'data-output/'"
   ]
  },
  {
   "cell_type": "code",
   "execution_count": 2,
   "metadata": {},
   "outputs": [
    {
     "output_type": "execute_result",
     "data": {
      "text/plain": [
       "  Line Number                                Line Description  New Line  \\\n",
       "0           2            Downtown LA - Westwood via Sunset Bl     False   \n",
       "1           4  Downtown LA - Santa Monica via Santa Monica Bl     False   \n",
       "2          10     West Hollywood - Downtown LA via Melrose Av     False   \n",
       "3          14     Beverly Center - Downtown LA via Beverly Bl     False   \n",
       "4          16    Downtown LA - West Hollywood via West 3rd St     False   \n",
       "\n",
       "   Lines Merged  Line Discontinued  New Weekend Service  More Trips Weekdays  \\\n",
       "0         False              False                False                 True   \n",
       "1         False              False                False                 True   \n",
       "2         False              False                False                False   \n",
       "3         False              False                False                 True   \n",
       "4          True              False                 True                 True   \n",
       "\n",
       "   More Trips Saturdays  More Trips Sundays  Route Changed  \\\n",
       "0                  True                True          False   \n",
       "1                  True                True          False   \n",
       "2                 False               False          False   \n",
       "3                  True                True           True   \n",
       "4                  True                True           True   \n",
       "\n",
       "   Overnight OWL Service  Metro Micro  Service Restored  \\\n",
       "0                  False        False             False   \n",
       "1                  False        False             False   \n",
       "2                   True        False             False   \n",
       "3                  False        False             False   \n",
       "4                  False        False             False   \n",
       "\n",
       "                                             Details  \n",
       "0                                  No route changes.  \n",
       "1                                  No route changes.  \n",
       "2  No route changes. Overnight owl service discon...  \n",
       "3  No route changes to Line 14 between downtown L...  \n",
       "4  Lines 16 and 17 merge to become the new Line 1...  "
      ],
      "text/html": "<div>\n<style scoped>\n    .dataframe tbody tr th:only-of-type {\n        vertical-align: middle;\n    }\n\n    .dataframe tbody tr th {\n        vertical-align: top;\n    }\n\n    .dataframe thead th {\n        text-align: right;\n    }\n</style>\n<table border=\"1\" class=\"dataframe\">\n  <thead>\n    <tr style=\"text-align: right;\">\n      <th></th>\n      <th>Line Number</th>\n      <th>Line Description</th>\n      <th>New Line</th>\n      <th>Lines Merged</th>\n      <th>Line Discontinued</th>\n      <th>New Weekend Service</th>\n      <th>More Trips Weekdays</th>\n      <th>More Trips Saturdays</th>\n      <th>More Trips Sundays</th>\n      <th>Route Changed</th>\n      <th>Overnight OWL Service</th>\n      <th>Metro Micro</th>\n      <th>Service Restored</th>\n      <th>Details</th>\n    </tr>\n  </thead>\n  <tbody>\n    <tr>\n      <th>0</th>\n      <td>2</td>\n      <td>Downtown LA - Westwood via Sunset Bl</td>\n      <td>False</td>\n      <td>False</td>\n      <td>False</td>\n      <td>False</td>\n      <td>True</td>\n      <td>True</td>\n      <td>True</td>\n      <td>False</td>\n      <td>False</td>\n      <td>False</td>\n      <td>False</td>\n      <td>No route changes.</td>\n    </tr>\n    <tr>\n      <th>1</th>\n      <td>4</td>\n      <td>Downtown LA - Santa Monica via Santa Monica Bl</td>\n      <td>False</td>\n      <td>False</td>\n      <td>False</td>\n      <td>False</td>\n      <td>True</td>\n      <td>True</td>\n      <td>True</td>\n      <td>False</td>\n      <td>False</td>\n      <td>False</td>\n      <td>False</td>\n      <td>No route changes.</td>\n    </tr>\n    <tr>\n      <th>2</th>\n      <td>10</td>\n      <td>West Hollywood - Downtown LA via Melrose Av</td>\n      <td>False</td>\n      <td>False</td>\n      <td>False</td>\n      <td>False</td>\n      <td>False</td>\n      <td>False</td>\n      <td>False</td>\n      <td>False</td>\n      <td>True</td>\n      <td>False</td>\n      <td>False</td>\n      <td>No route changes. Overnight owl service discon...</td>\n    </tr>\n    <tr>\n      <th>3</th>\n      <td>14</td>\n      <td>Beverly Center - Downtown LA via Beverly Bl</td>\n      <td>False</td>\n      <td>False</td>\n      <td>False</td>\n      <td>False</td>\n      <td>True</td>\n      <td>True</td>\n      <td>True</td>\n      <td>True</td>\n      <td>False</td>\n      <td>False</td>\n      <td>False</td>\n      <td>No route changes to Line 14 between downtown L...</td>\n    </tr>\n    <tr>\n      <th>4</th>\n      <td>16</td>\n      <td>Downtown LA - West Hollywood via West 3rd St</td>\n      <td>False</td>\n      <td>True</td>\n      <td>False</td>\n      <td>True</td>\n      <td>True</td>\n      <td>True</td>\n      <td>True</td>\n      <td>True</td>\n      <td>False</td>\n      <td>False</td>\n      <td>False</td>\n      <td>Lines 16 and 17 merge to become the new Line 1...</td>\n    </tr>\n  </tbody>\n</table>\n</div>"
     },
     "metadata": {},
     "execution_count": 2
    }
   ],
   "source": [
    "line_changes = pd.read_csv(DATA_INPUT_PATH + 'mybus-jun-2021 - Line Changes.csv',\n",
    "    usecols={'Line Number', 'Line Description', 'New Line', 'Lines Merged', 'Line Discontinued', 'New Weekend Service', 'More Trips Weekdays', 'More Trips Saturdays', 'More Trips Sundays', 'Route Changed', 'Overnight OWL Service', 'Metro Micro', 'Service Restored', 'Details'})\n",
    "line_changes.head()"
   ]
  },
  {
   "cell_type": "code",
   "execution_count": 4,
   "metadata": {},
   "outputs": [],
   "source": [
    "line_changes.to_json(DATA_OUTPUT_PATH + 'line_changes.json', orient='records')"
   ]
  }
 ]
}