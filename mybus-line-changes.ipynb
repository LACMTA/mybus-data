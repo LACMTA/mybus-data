{
 "metadata": {
  "language_info": {
   "codemirror_mode": {
    "name": "ipython",
    "version": 3
   },
   "file_extension": ".py",
   "mimetype": "text/x-python",
   "name": "python",
   "nbconvert_exporter": "python",
   "pygments_lexer": "ipython3",
   "version": "3.6.9"
  },
  "orig_nbformat": 2,
  "kernelspec": {
   "name": "python369jvsc74a57bd031f2aee4e71d21fbe5cf8b01ff0e069b9275f58929596ceb00d14d90e3e16cd6",
   "display_name": "Python 3.6.9 64-bit"
  },
  "metadata": {
   "interpreter": {
    "hash": "31f2aee4e71d21fbe5cf8b01ff0e069b9275f58929596ceb00d14d90e3e16cd6"
   }
  }
 },
 "nbformat": 4,
 "nbformat_minor": 2,
 "cells": [
  {
   "source": [
    "# Overview\n",
    "\n",
    "This Jupyter Notebook takes in data from a Google Sheet that contains line change details and their associated high level categories and outputs a JSON file for the MyBus tool.\n",
    "\n",
    "The output file is used by the MyBus tool's results page and contains the Line-level changes that are displayed there."
   ],
   "cell_type": "markdown",
   "metadata": {}
  },
  {
   "cell_type": "code",
   "execution_count": 2,
   "metadata": {},
   "outputs": [],
   "source": [
    "import pandas as pd\n",
    "DATA_INPUT_PATH = 'data-input/'\n",
    "DATA_OUTPUT_PATH = 'data-output/'"
   ]
  },
  {
   "cell_type": "code",
   "execution_count": 6,
   "metadata": {},
   "outputs": [
    {
     "output_type": "execute_result",
     "data": {
      "text/plain": [
       "  Line Number                                Line Description  \\\n",
       "0           2            Downtown LA - Westwood via Sunset Bl   \n",
       "1           4  Downtown LA - Santa Monica via Santa Monica Bl   \n",
       "2          10     West Hollywood - Downtown LA via Melrose Av   \n",
       "3          14     Beverly Center - Downtown LA via Beverly Bl   \n",
       "4          16    Downtown LA - West Hollywood via West 3rd St   \n",
       "\n",
       "           Line Merged/Discontinued/Service Restored              Route  \\\n",
       "0                                                     No route changes.   \n",
       "1                                                     No route changes.   \n",
       "2                                                     No route changes.   \n",
       "3                                                                         \n",
       "4  Lines 16 and 17 merge to become the new Line 1...                      \n",
       "\n",
       "                                Schedule                         Schedule URL  \n",
       "0        More weekday and weekend trips.                                       \n",
       "1        More weekday and weekend trips.  files/schedules/004_TT_06_27_21.pdf  \n",
       "2                                                                              \n",
       "3                                                                              \n",
       "4  New weekend service for Robertson Bl.                                       "
      ],
      "text/html": "<div>\n<style scoped>\n    .dataframe tbody tr th:only-of-type {\n        vertical-align: middle;\n    }\n\n    .dataframe tbody tr th {\n        vertical-align: top;\n    }\n\n    .dataframe thead th {\n        text-align: right;\n    }\n</style>\n<table border=\"1\" class=\"dataframe\">\n  <thead>\n    <tr style=\"text-align: right;\">\n      <th></th>\n      <th>Line Number</th>\n      <th>Line Description</th>\n      <th>Line Merged/Discontinued/Service Restored</th>\n      <th>Route</th>\n      <th>Schedule</th>\n      <th>Schedule URL</th>\n    </tr>\n  </thead>\n  <tbody>\n    <tr>\n      <th>0</th>\n      <td>2</td>\n      <td>Downtown LA - Westwood via Sunset Bl</td>\n      <td></td>\n      <td>No route changes.</td>\n      <td>More weekday and weekend trips.</td>\n      <td></td>\n    </tr>\n    <tr>\n      <th>1</th>\n      <td>4</td>\n      <td>Downtown LA - Santa Monica via Santa Monica Bl</td>\n      <td></td>\n      <td>No route changes.</td>\n      <td>More weekday and weekend trips.</td>\n      <td>files/schedules/004_TT_06_27_21.pdf</td>\n    </tr>\n    <tr>\n      <th>2</th>\n      <td>10</td>\n      <td>West Hollywood - Downtown LA via Melrose Av</td>\n      <td></td>\n      <td>No route changes.</td>\n      <td></td>\n      <td></td>\n    </tr>\n    <tr>\n      <th>3</th>\n      <td>14</td>\n      <td>Beverly Center - Downtown LA via Beverly Bl</td>\n      <td></td>\n      <td></td>\n      <td></td>\n      <td></td>\n    </tr>\n    <tr>\n      <th>4</th>\n      <td>16</td>\n      <td>Downtown LA - West Hollywood via West 3rd St</td>\n      <td>Lines 16 and 17 merge to become the new Line 1...</td>\n      <td></td>\n      <td>New weekend service for Robertson Bl.</td>\n      <td></td>\n    </tr>\n  </tbody>\n</table>\n</div>"
     },
     "metadata": {},
     "execution_count": 6
    }
   ],
   "source": [
    "line_changes = pd.read_csv(DATA_INPUT_PATH + 'mybus-jun-2021 - Line Changes.csv',\n",
    "    usecols={'Line Number', 'Line Description', 'Line Merged/Discontinued/Service Restored', 'Route', 'Schedule', 'Schedule URL'})\n",
    "\n",
    "line_changes = line_changes.fillna('')\n",
    "line_changes.head()"
   ]
  },
  {
   "cell_type": "code",
   "execution_count": 8,
   "metadata": {},
   "outputs": [],
   "source": [
    "line_changes.to_json(DATA_OUTPUT_PATH + 'line-changes.json', orient='records')"
   ]
  }
 ]
}