{
 "metadata": {
  "language_info": {
   "codemirror_mode": {
    "name": "ipython",
    "version": 3
   },
   "file_extension": ".py",
   "mimetype": "text/x-python",
   "name": "python",
   "nbconvert_exporter": "python",
   "pygments_lexer": "ipython3",
   "version": "3.6.9"
  },
  "orig_nbformat": 2,
  "kernelspec": {
   "name": "python369jvsc74a57bd031f2aee4e71d21fbe5cf8b01ff0e069b9275f58929596ceb00d14d90e3e16cd6",
   "display_name": "Python 3.6.9 64-bit"
  },
  "metadata": {
   "interpreter": {
    "hash": "31f2aee4e71d21fbe5cf8b01ff0e069b9275f58929596ceb00d14d90e3e16cd6"
   }
  }
 },
 "nbformat": 4,
 "nbformat_minor": 2,
 "cells": [
  {
   "source": [
    "# Overview\n",
    "\n",
    "This Jupyter Notebook takes in data from a Google Sheet that contains line change details and their associated high level categories and outputs a JSON file for the MyBus tool.\n",
    "\n",
    "The output file is used by the MyBus tool's results page and contains the Line-level changes that are displayed there.\n",
    "\n",
    "Run all cells to generate: `lines-changes.json`"
   ],
   "cell_type": "markdown",
   "metadata": {}
  },
  {
   "cell_type": "code",
   "execution_count": 5,
   "metadata": {},
   "outputs": [],
   "source": [
    "import pandas as pd\n",
    "DATA_INPUT_PATH = 'data-input/'\n",
    "DATA_OUTPUT_PATH = 'data-output/'"
   ]
  },
  {
   "cell_type": "code",
   "execution_count": 6,
   "metadata": {},
   "outputs": [
    {
     "output_type": "execute_result",
     "data": {
      "text/plain": [
       "  line-number                                line-description  lines-merged  \\\n",
       "0           2            Downtown LA - Westwood via Sunset Bl         False   \n",
       "1           4  Downtown LA - Santa Monica via Santa Monica Bl         False   \n",
       "2          10     West Hollywood - Downtown LA via Melrose Av         False   \n",
       "3          14     Beverly Center - Downtown LA via Beverly Bl         False   \n",
       "4          16    Downtown LA - West Hollywood via West 3rd St          True   \n",
       "\n",
       "   line-discontinued  service-restored  \\\n",
       "0              False             False   \n",
       "1              False             False   \n",
       "2              False             False   \n",
       "3              False             False   \n",
       "4              False             False   \n",
       "\n",
       "                                              card-1  \\\n",
       "0                                                      \n",
       "1                                                      \n",
       "2     Owl service discontinued due to low ridership.   \n",
       "3                                                      \n",
       "4  Lines 16 and 17 merge to become the new Line 1...   \n",
       "\n",
       "                                              card-2  \\\n",
       "0                                  No route changes.   \n",
       "1                                  No route changes.   \n",
       "2          No route changes. Bus stop consolidation.   \n",
       "3  No route changes to Line 14 between downtown L...   \n",
       "4                            Bus stop consolidation.   \n",
       "\n",
       "                                              card-3  \\\n",
       "0                    More weekday and weekend trips.   \n",
       "1                    More weekday and weekend trips.   \n",
       "2                                                      \n",
       "3                    More weekday and weekend trips.   \n",
       "4  More weekday trips. New weekend service for Ro...   \n",
       "\n",
       "                          schedule-url  \n",
       "0  files/schedules/002_TT_06-27-21.pdf  \n",
       "1  files/schedules/004_TT_06-27-21.pdf  \n",
       "2                                       \n",
       "3                                       \n",
       "4                                       "
      ],
      "text/html": "<div>\n<style scoped>\n    .dataframe tbody tr th:only-of-type {\n        vertical-align: middle;\n    }\n\n    .dataframe tbody tr th {\n        vertical-align: top;\n    }\n\n    .dataframe thead th {\n        text-align: right;\n    }\n</style>\n<table border=\"1\" class=\"dataframe\">\n  <thead>\n    <tr style=\"text-align: right;\">\n      <th></th>\n      <th>line-number</th>\n      <th>line-description</th>\n      <th>lines-merged</th>\n      <th>line-discontinued</th>\n      <th>service-restored</th>\n      <th>card-1</th>\n      <th>card-2</th>\n      <th>card-3</th>\n      <th>schedule-url</th>\n    </tr>\n  </thead>\n  <tbody>\n    <tr>\n      <th>0</th>\n      <td>2</td>\n      <td>Downtown LA - Westwood via Sunset Bl</td>\n      <td>False</td>\n      <td>False</td>\n      <td>False</td>\n      <td></td>\n      <td>No route changes.</td>\n      <td>More weekday and weekend trips.</td>\n      <td>files/schedules/002_TT_06-27-21.pdf</td>\n    </tr>\n    <tr>\n      <th>1</th>\n      <td>4</td>\n      <td>Downtown LA - Santa Monica via Santa Monica Bl</td>\n      <td>False</td>\n      <td>False</td>\n      <td>False</td>\n      <td></td>\n      <td>No route changes.</td>\n      <td>More weekday and weekend trips.</td>\n      <td>files/schedules/004_TT_06-27-21.pdf</td>\n    </tr>\n    <tr>\n      <th>2</th>\n      <td>10</td>\n      <td>West Hollywood - Downtown LA via Melrose Av</td>\n      <td>False</td>\n      <td>False</td>\n      <td>False</td>\n      <td>Owl service discontinued due to low ridership.</td>\n      <td>No route changes. Bus stop consolidation.</td>\n      <td></td>\n      <td></td>\n    </tr>\n    <tr>\n      <th>3</th>\n      <td>14</td>\n      <td>Beverly Center - Downtown LA via Beverly Bl</td>\n      <td>False</td>\n      <td>False</td>\n      <td>False</td>\n      <td></td>\n      <td>No route changes to Line 14 between downtown L...</td>\n      <td>More weekday and weekend trips.</td>\n      <td></td>\n    </tr>\n    <tr>\n      <th>4</th>\n      <td>16</td>\n      <td>Downtown LA - West Hollywood via West 3rd St</td>\n      <td>True</td>\n      <td>False</td>\n      <td>False</td>\n      <td>Lines 16 and 17 merge to become the new Line 1...</td>\n      <td>Bus stop consolidation.</td>\n      <td>More weekday trips. New weekend service for Ro...</td>\n      <td></td>\n    </tr>\n  </tbody>\n</table>\n</div>"
     },
     "metadata": {},
     "execution_count": 6
    }
   ],
   "source": [
    "line_changes = pd.read_csv(DATA_INPUT_PATH + 'mybus-jun-2021 - Line Changes.csv',\n",
    "    usecols={'Line Number', 'Line Description', 'Lines Merged', 'Line Discontinued', 'Service Restored', 'Service', 'Route', 'Schedule', 'Schedule URL'})\n",
    "\n",
    "line_changes.columns = [\"line-number\",\"line-description\",\"lines-merged\",\"line-discontinued\",\"service-restored\",\"card-1\",\"card-2\",\"card-3\",\"schedule-url\"]\n",
    "\n",
    "\n",
    "# ,\n",
    "#     usecols={'Line Number', 'Line Description','Lines Merged', 'Lines Discontinued', 'Service Restored' 'Line Merged/Discontinued/Service Restored', 'Route', 'Schedule', 'Schedule URL'})\n",
    "\n",
    "# line_changes.columns = ['line-number','line-description','lines-merged','lines-discontinued','serice-restored','card-1','card-2','card-3','schedule-url']\n",
    "\n",
    "\n",
    "line_changes = line_changes.fillna('')\n",
    "line_changes.head()"
   ]
  },
  {
   "cell_type": "code",
   "execution_count": 7,
   "metadata": {},
   "outputs": [
    {
     "output_type": "stream",
     "name": "stdout",
     "text": [
      "148 lines\n"
     ]
    }
   ],
   "source": [
    "line_changes.to_json(DATA_OUTPUT_PATH + 'line-changes.json', orient='records')\n",
    "\n",
    "# As of 5/28/21 - should contain 148 lines total\n",
    "# 141 existing lines + 7 new lines\n",
    "print(str(len(line_changes)) + ' lines')\n"
   ]
  }
 ]
}